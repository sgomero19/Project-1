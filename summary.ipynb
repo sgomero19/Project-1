{
 "cells": [
  {
   "cell_type": "markdown",
   "metadata": {},
   "source": [
    "# Stock\n",
    "\n",
    "---\n",
    "\n",
    "## Starter Code"
   ]
  },
  {
   "cell_type": "code",
   "execution_count": 1,
   "metadata": {
    "scrolled": true
   },
   "outputs": [],
   "source": [
    "# Dependencies and Setup\n",
    "import matplotlib.pyplot as plt\n",
    "import pandas as pd\n",
    "import numpy as np\n",
    "import requests\n",
    "import time\n",
    "from scipy.stats import linregress\n",
    "from pathlib import Path\n"
   ]
  },
  {
   "cell_type": "markdown",
   "metadata": {},
   "source": [
    "\n",
    "### retrive stock from cvs files"
   ]
  },
  {
   "cell_type": "code",
   "execution_count": 9,
   "metadata": {},
   "outputs": [
    {
     "name": "stdout",
     "output_type": "stream",
     "text": [
      "                       Date  Open_GD  Close_GD  Volume_GD Symbol_GD\n",
      "0  2024-08-30T00:00:00+0000   297.53    299.36  1033038.0        GD\n",
      "1  2024-08-29T00:00:00+0000   298.00    297.83  1640388.0        GD\n",
      "2  2024-08-28T00:00:00+0000   290.99    296.64  1553612.0        GD\n",
      "3  2024-08-27T00:00:00+0000   291.01    290.20  1005336.0        GD\n",
      "4  2024-08-26T00:00:00+0000   292.45    291.00   814847.0        GD\n",
      "                       Date  Open_RTX  Close_RTX  Volume_RTX Symbol_RTX\n",
      "0  2024-08-30T00:00:00+0000    122.05     123.34   6371993.0        RTX\n",
      "1  2024-08-29T00:00:00+0000    121.09     122.29   3547768.0        RTX\n",
      "2  2024-08-28T00:00:00+0000    119.77     120.84   4287172.0        RTX\n",
      "3  2024-08-27T00:00:00+0000    118.68     119.49   4101156.0        RTX\n",
      "4  2024-08-26T00:00:00+0000    118.69     118.70   6260578.0        RTX\n",
      "                       Date  Open_LMT  Close_LMT  Volume_LMT Symbol_LMT\n",
      "0  2024-08-30T00:00:00+0000    564.97     568.10   1082809.0        LMT\n",
      "1  2024-08-29T00:00:00+0000    564.00     566.85    662411.0        LMT\n",
      "2  2024-08-28T00:00:00+0000    562.20     563.98    829250.0        LMT\n",
      "3  2024-08-27T00:00:00+0000    559.45     560.41    749757.0        LMT\n",
      "4  2024-08-26T00:00:00+0000    556.11     558.10    795353.0        LMT\n"
     ]
    }
   ],
   "source": [
    "# Read saved data\n",
    "stock_GD_df = pd.read_csv(\"output_data/stock_GD.csv\")\n",
    "stock_RTX_df = pd.read_csv(\"output_data/stock_RTX.csv\")\n",
    "stock_LMT_df = pd.read_csv(\"output_data/stock_LMT.csv\")\n",
    "\n",
    "\n",
    "stock_GD_df = stock_GD_df.drop(columns=[\"Unnamed: 0\"])\n",
    "stock_RTX_df = stock_RTX_df.drop(columns=[\"Unnamed: 0\"])\n",
    "stock_LMT_df = stock_LMT_df.drop(columns=[\"Unnamed: 0\"])\n",
    "\n",
    "\n",
    "# Display sample data\n",
    "print(stock_GD_df.head())\n",
    "print(stock_RTX_df.head())\n",
    "print(stock_LMT_df.head())"
   ]
  },
  {
   "cell_type": "code",
   "execution_count": 12,
   "metadata": {},
   "outputs": [
    {
     "data": {
      "text/html": [
       "<div>\n",
       "<style scoped>\n",
       "    .dataframe tbody tr th:only-of-type {\n",
       "        vertical-align: middle;\n",
       "    }\n",
       "\n",
       "    .dataframe tbody tr th {\n",
       "        vertical-align: top;\n",
       "    }\n",
       "\n",
       "    .dataframe thead th {\n",
       "        text-align: right;\n",
       "    }\n",
       "</style>\n",
       "<table border=\"1\" class=\"dataframe\">\n",
       "  <thead>\n",
       "    <tr style=\"text-align: right;\">\n",
       "      <th></th>\n",
       "      <th>Date</th>\n",
       "      <th>Open_GD</th>\n",
       "      <th>Close_GD</th>\n",
       "      <th>Volume_GD</th>\n",
       "      <th>Symbol_GD</th>\n",
       "      <th>Open_RTX</th>\n",
       "      <th>Close_RTX</th>\n",
       "      <th>Volume_RTX</th>\n",
       "      <th>Symbol_RTX</th>\n",
       "      <th>Open_LMT</th>\n",
       "      <th>Close_LMT</th>\n",
       "      <th>Volume_LMT</th>\n",
       "      <th>Symbol_LMT</th>\n",
       "    </tr>\n",
       "  </thead>\n",
       "  <tbody>\n",
       "    <tr>\n",
       "      <th>0</th>\n",
       "      <td>2024-08-30T00:00:00+0000</td>\n",
       "      <td>297.53</td>\n",
       "      <td>299.36</td>\n",
       "      <td>1033038.0</td>\n",
       "      <td>GD</td>\n",
       "      <td>122.05</td>\n",
       "      <td>123.34</td>\n",
       "      <td>6371993.0</td>\n",
       "      <td>RTX</td>\n",
       "      <td>564.97</td>\n",
       "      <td>568.10</td>\n",
       "      <td>1082809.0</td>\n",
       "      <td>LMT</td>\n",
       "    </tr>\n",
       "    <tr>\n",
       "      <th>1</th>\n",
       "      <td>2024-08-29T00:00:00+0000</td>\n",
       "      <td>298.00</td>\n",
       "      <td>297.83</td>\n",
       "      <td>1640388.0</td>\n",
       "      <td>GD</td>\n",
       "      <td>121.09</td>\n",
       "      <td>122.29</td>\n",
       "      <td>3547768.0</td>\n",
       "      <td>RTX</td>\n",
       "      <td>564.00</td>\n",
       "      <td>566.85</td>\n",
       "      <td>662411.0</td>\n",
       "      <td>LMT</td>\n",
       "    </tr>\n",
       "    <tr>\n",
       "      <th>2</th>\n",
       "      <td>2024-08-28T00:00:00+0000</td>\n",
       "      <td>290.99</td>\n",
       "      <td>296.64</td>\n",
       "      <td>1553612.0</td>\n",
       "      <td>GD</td>\n",
       "      <td>119.77</td>\n",
       "      <td>120.84</td>\n",
       "      <td>4287172.0</td>\n",
       "      <td>RTX</td>\n",
       "      <td>562.20</td>\n",
       "      <td>563.98</td>\n",
       "      <td>829250.0</td>\n",
       "      <td>LMT</td>\n",
       "    </tr>\n",
       "    <tr>\n",
       "      <th>3</th>\n",
       "      <td>2024-08-27T00:00:00+0000</td>\n",
       "      <td>291.01</td>\n",
       "      <td>290.20</td>\n",
       "      <td>1005336.0</td>\n",
       "      <td>GD</td>\n",
       "      <td>118.68</td>\n",
       "      <td>119.49</td>\n",
       "      <td>4101156.0</td>\n",
       "      <td>RTX</td>\n",
       "      <td>559.45</td>\n",
       "      <td>560.41</td>\n",
       "      <td>749757.0</td>\n",
       "      <td>LMT</td>\n",
       "    </tr>\n",
       "    <tr>\n",
       "      <th>4</th>\n",
       "      <td>2024-08-26T00:00:00+0000</td>\n",
       "      <td>292.45</td>\n",
       "      <td>291.00</td>\n",
       "      <td>814847.0</td>\n",
       "      <td>GD</td>\n",
       "      <td>118.69</td>\n",
       "      <td>118.70</td>\n",
       "      <td>6260578.0</td>\n",
       "      <td>RTX</td>\n",
       "      <td>556.11</td>\n",
       "      <td>558.10</td>\n",
       "      <td>795353.0</td>\n",
       "      <td>LMT</td>\n",
       "    </tr>\n",
       "  </tbody>\n",
       "</table>\n",
       "</div>"
      ],
      "text/plain": [
       "                       Date  Open_GD  Close_GD  Volume_GD Symbol_GD  Open_RTX  \\\n",
       "0  2024-08-30T00:00:00+0000   297.53    299.36  1033038.0        GD    122.05   \n",
       "1  2024-08-29T00:00:00+0000   298.00    297.83  1640388.0        GD    121.09   \n",
       "2  2024-08-28T00:00:00+0000   290.99    296.64  1553612.0        GD    119.77   \n",
       "3  2024-08-27T00:00:00+0000   291.01    290.20  1005336.0        GD    118.68   \n",
       "4  2024-08-26T00:00:00+0000   292.45    291.00   814847.0        GD    118.69   \n",
       "\n",
       "   Close_RTX  Volume_RTX Symbol_RTX  Open_LMT  Close_LMT  Volume_LMT  \\\n",
       "0     123.34   6371993.0        RTX    564.97     568.10   1082809.0   \n",
       "1     122.29   3547768.0        RTX    564.00     566.85    662411.0   \n",
       "2     120.84   4287172.0        RTX    562.20     563.98    829250.0   \n",
       "3     119.49   4101156.0        RTX    559.45     560.41    749757.0   \n",
       "4     118.70   6260578.0        RTX    556.11     558.10    795353.0   \n",
       "\n",
       "  Symbol_LMT  \n",
       "0        LMT  \n",
       "1        LMT  \n",
       "2        LMT  \n",
       "3        LMT  \n",
       "4        LMT  "
      ]
     },
     "execution_count": 12,
     "metadata": {},
     "output_type": "execute_result"
    }
   ],
   "source": [
    "## Merge data\n",
    "Merge_1 = pd.merge(stock_GD_df, stock_RTX_df, on = \"Date\")\n",
    "stock_data_df = pd.merge(Merge_1, stock_LMT_df, on = \"Date\" )\n",
    "stock_data_df.head()\n"
   ]
  },
  {
   "cell_type": "code",
   "execution_count": null,
   "metadata": {},
   "outputs": [],
   "source": []
  }
 ],
 "metadata": {
  "anaconda-cloud": {},
  "kernel_info": {
   "name": "python3"
  },
  "kernelspec": {
   "display_name": "Python 3 (ipykernel)",
   "language": "python",
   "name": "python3"
  },
  "language_info": {
   "codemirror_mode": {
    "name": "ipython",
    "version": 3
   },
   "file_extension": ".py",
   "mimetype": "text/x-python",
   "name": "python",
   "nbconvert_exporter": "python",
   "pygments_lexer": "ipython3",
   "version": "3.10.14"
  },
  "latex_envs": {
   "LaTeX_envs_menu_present": true,
   "autoclose": false,
   "autocomplete": true,
   "bibliofile": "biblio.bib",
   "cite_by": "apalike",
   "current_citInitial": 1,
   "eqLabelWithNumbers": true,
   "eqNumInitial": 1,
   "hotkeys": {
    "equation": "Ctrl-E",
    "itemize": "Ctrl-I"
   },
   "labels_anchors": false,
   "latex_user_defs": false,
   "report_style_numbering": false,
   "user_envs_cfg": false
  },
  "nteract": {
   "version": "0.12.3"
  }
 },
 "nbformat": 4,
 "nbformat_minor": 4
}
